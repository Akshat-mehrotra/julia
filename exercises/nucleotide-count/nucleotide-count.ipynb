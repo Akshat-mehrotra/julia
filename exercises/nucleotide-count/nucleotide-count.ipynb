{
 "cells": [
  {
   "cell_type": "markdown",
   "metadata": {},
   "source": [
    "# Nucleotide Count\n",
    "\n",
    "Given a DNA string, compute how many times each nucleotide occurs in the string.\n",
    "\n",
    "DNA is represented by an alphabet of the following symbols: 'A', 'C',\n",
    "'G', and 'T'.\n",
    "\n",
    "Each symbol represents a nucleotide, which is a fancy name for the\n",
    "particular molecules that happen to make up a large part of DNA.\n",
    "\n",
    "Shortest intro to biochemistry EVAR:\n",
    "\n",
    "- twigs are to birds nests as\n",
    "- nucleotides are to DNA and RNA as\n",
    "- amino acids are to proteins as\n",
    "- sugar is to starch as\n",
    "- oh crap lipids\n",
    "\n",
    "I'm not going to talk about lipids because they're crazy complex.\n",
    "\n",
    "So back to nucleotides.\n",
    "\n",
    "DNA contains four types of them: adenine (`A`), cytosine (`C`), guanine\n",
    "(`G`), and thymine (`T`).\n",
    "\n",
    "RNA contains a slightly different set of nucleotides, but we don't care\n",
    "about that for now.\n",
    "## Source\n",
    "\n",
    "The Calculating DNA Nucleotides_problem at Rosalind [http://rosalind.info/problems/dna/](http://rosalind.info/problems/dna/)\n",
    "\n",
    "\n",
    "## Submitting Incomplete Solutions\n",
    "It's possible to submit an incomplete solution so you can see how others have completed the exercise.\n"
   ]
  },
  {
   "cell_type": "code",
   "execution_count": null,
   "metadata": {},
   "outputs": [],
   "source": [
    "function count_nucleotides(strand::AbstractString)\n",
    "\n",
    "end\n"
   ]
  },
  {
   "cell_type": "code",
   "execution_count": null,
   "metadata": {},
   "outputs": [],
   "source": [
    "using Base.Test\n",
    "\n",
    "# include(\"nucleotide-count.jl\")\n",
    "\n",
    "@testset \"empty strand\" begin\n",
    "    @test count_nucleotides(\"\") == Dict('A' => 0, 'C' => 0, 'G' => 0, 'T' => 0)\n",
    "end\n",
    "\n",
    "@testset \"strand with repeated nucleotide\" begin\n",
    "    @test count_nucleotides(\"GGGGGGG\") == Dict('A' => 0, 'C' => 0, 'G' => 7, 'T' => 0)\n",
    "end\n",
    "\n",
    "@testset \"strand with multiple nucleotides\" begin\n",
    "    @test count_nucleotides(\"AGCTTTTCATTCTGACTGCAACGGGCAATATGTCTCTGTGTGGATTAAAAAAAGAGTGTCTGATAGCAGC\") == Dict('A' => 20, 'C' => 12, 'G' => 17, 'T' => 21)\n",
    "end\n",
    "\n",
    "@testset \"strand with invalid nucleotides\" begin\n",
    "    @test_throws DomainError count_nucleotides(\"AGXXACT\")\n",
    "end\n"
   ]
  },
  {
   "cell_type": "code",
   "execution_count": null,
   "metadata": {},
   "outputs": [],
   "source": [
    "# To submit your exercise, you need to save your solution in a file called nucleotide-count.jl before using the CLI.\n",
    "# You can either create it manually or use the following functions, which will automatically\n",
    "# save every notebook cell starting with `# submit` in that file.\n",
    "\n",
    "# Pkg.add(PackageSpec(url=\"https://github.com/SaschaMann/Exercism.jl\", rev=\"master\"))\n",
    "# using Exercism\n",
    "# Exercism.create_submission(\"nucleotide-count\")\n"
   ]
  }
 ],
 "metadata": {},
 "nbformat": 4,
 "nbformat_minor": 2
}
