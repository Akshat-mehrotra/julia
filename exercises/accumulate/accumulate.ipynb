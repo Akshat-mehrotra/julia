{
    "cells": [
        {
            "cell_type": "markdown",
            "metadata": {},
            "source": ["# Accumulate\n", "\n", "Implement the `accumulate` operation, which, given a collection and an\n", "operation to perform on each element of the collection, returns a new\n", "collection containing the result of applying that operation to each element of\n", "the input collection.\n", "\n", "You can use `collect(1:10)` as a quick way to create a collection but remember that\n", "under the hood, collection returns an array so you can also just make an array\n", "explicitly by doing `my_array = [1, 2, 3, 4, 5]`. \n", "\n", " ## Examples\n", "\n", " Given the collection of numbers:\n", "\n", " - 1, 2, 3, 4, 5\n", "\n", " And the operation:\n", "\n", " - square a number (`x => x * x`)\n", "\n", " Your code should be able to produce the collection of squares:\n", "\n", " - 1, 4, 9, 16, 25\n", "\n", " Check out the test suite to see the expected function signature.\n", "\n", " ## Version compatibility\n", " This exercise has been tested on Julia versions >=1.0.\n", "\n", " ## Submitting Incomplete Solutions\n", " It's possible to submit an incomplete solution so you can see how others have completed the exercise."]
        },
        {
            "cell_type": "markdown",
            "metadata": {},
            "source": ["## Your solution"]
        },
        {
            "cell_type": "code",
            "execution_count": null,
            "metadata": {},
            "outputs": [],
            "source": ["# submit"]
        },
        {
            "cell_type": "markdown",
            "metadata": {},
            "source": ["## Test suite"]
        },
        {
            "cell_type": "code",
            "execution_count": null,
            "metadata": {},
            "outputs": [],
            "source": ["# canonical data version: 1.1.0\n", "\n", " using Test\n", "\n", " # include(\"accumulate.jl\")\n", "\n", " @testset \"multiply\" begin\n", "     @test accumulate(collect(1:10), *) == [1, 4, 9, 16, 25, 36, 49, 64, 81, 100]\n", " end\n", "\n", " @testset \"divide\" begin\n", "     @test accumulate(collect(1:10), /) == [1.0, 1.0, 1.0, 1.0, 1.0, 1.0, 1.0, 1.0, 1.0, 1.0]\n", " end\n", "\n", " @testset \"subtract\" begin\n", "     @test accumulate(collect(1:10), -) == [0, 0, 0, 0, 0, 0, 0, 0, 0, 0]\n", " end\n", "\n", " @testset \"add\" begin\n", "     @test accumulate(collect(1:10), +) == [2, 4, 6, 8, 10, 12, 14, 16, 18, 20]\n", " end\n", "\n", " @testset \"mod\" begin\n", "     @test accumulate(collect(1:10), %) == [0, 0, 0, 0, 0, 0, 0, 0, 0, 0]\n", " end"]
        },
        {
            "cell_type": "markdown",
            "metadata": {},
            "source": [
                "## Prepare submission\n",
                "To submit your exercise, you need to save your solution in a file called `accumulate.jl` before using the CLI.\n",
                "You can either create it manually or use the following functions, which will automatically write every notebook cell that starts with `# submit` to the file `accumulate.jl`.\n"
            ]
        },
        {
            "cell_type": "code",
            "execution_count": null,
            "metadata": {},
            "outputs": [],
            "source": [
                "# using Pkg; Pkg.add(\"Exercism\")\n",
                "# using Exercism\n",
                "# Exercism.create_submission(\"accumulate\")"
            ]
        }
    ],
    "metadata": {
        "kernelspec": {
            "display_name": "Julia 1.3.0",
            "language": "julia",
            "name": "julia-1.3"
        },
        "language_info": {
            "file_extension": ".jl",
            "mimetype": "application/julia",
            "name": "julia",
            "version": "1.3.0"
        }
    },
    "nbformat": 4,
    "nbformat_minor": 2
}
