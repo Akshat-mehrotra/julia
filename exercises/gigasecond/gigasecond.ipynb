{
 "cells": [
  {
   "cell_type": "markdown",
   "metadata": {},
   "source": [
    "# Gigasecond\n",
    "\n",
    "Calculate the moment when someone has lived for 10^9 seconds.\n",
    "\n",
    "A gigasecond is 10^9 (1,000,000,000) seconds.\n",
    "## Source\n",
    "\n",
    "Chapter 9 in Chris Pine's online Learn to Program tutorial. [http://pine.fm/LearnToProgram/?Chapter=09](http://pine.fm/LearnToProgram/?Chapter=09)\n",
    "\n",
    "\n",
    "## Version compatibility\n",
    "Julia 1.0 and 0.7 are the only supported Julia versions on Exercism.\n",
    "For the most part, the test suites and solutions should be compatible to 0.6, but you will have to change `using Test` back to `using Base.Test` in the `runtests.jl` file.\n",
    "Note that 0.7 and 1.0 are almost identical, except for deprecation warnings, which have all been removed in 1.0.\n",
    "\n",
    "## Submitting Incomplete Solutions\n",
    "It's possible to submit an incomplete solution so you can see how others have completed the exercise.\n"
   ]
  },
  {
   "cell_type": "code",
   "execution_count": null,
   "metadata": {},
   "outputs": [],
   "source": [
    "# submit\n",
    "function add_gigasecond(date::DateTime)\n",
    "\n",
    "end\n"
   ]
  },
  {
   "cell_type": "code",
   "execution_count": null,
   "metadata": {},
   "outputs": [],
   "source": [
    "using Test\n",
    "using Dates\n",
    "\n",
    "# include(\"gigasecond.jl\")\n",
    "\n",
    "samples = Dict(\n",
    "    DateTime(\"2011-04-25\") => DateTime(\"2043-01-01T01:46:40\"),\n",
    "    DateTime(\"1977-06-13\") => DateTime(\"2009-02-19T01:46:40\"),\n",
    "    DateTime(\"1959-07-19\") => DateTime(\"1991-03-27T01:46:40\"),\n",
    "    DateTime(\"2015-01-24T22:00:00\") => DateTime(\"2046-10-02T23:46:40\"),\n",
    "    DateTime(\"2015-01-24T23:59:59\") => DateTime(\"2046-10-03T01:46:39\")\n",
    ")\n",
    "\n",
    "@testset \"add gigasecond to $sample[1]\" for sample in samples\n",
    "    @test add_gigasecond(sample[1]) == sample[2]\n",
    "end\n"
   ]
  },
  {
   "cell_type": "code",
   "execution_count": null,
   "metadata": {},
   "outputs": [],
   "source": [
    "# To submit your exercise, you need to save your solution in a file called gigasecond.jl before using the CLI.\n",
    "# You can either create it manually or use the following functions, which will automatically\n",
    "# save every notebook cell starting with `# submit` in that file.\n",
    "\n",
    "# Pkg.add(\"Exercism\")\n",
    "# using Exercism\n",
    "# Exercism.create_submission(\"gigasecond\")\n"
   ]
  }
 ],
 "metadata": {},
 "nbformat": 4,
 "nbformat_minor": 2
}
